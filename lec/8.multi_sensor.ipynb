{
 "cells": [
  {
   "cell_type": "markdown",
   "metadata": {},
   "source": [
    "# 멀티센서 input을 이용한 SPR 접합특성 분류"
   ]
  },
  {
   "cell_type": "code",
   "execution_count": 51,
   "metadata": {},
   "outputs": [],
   "source": [
    "#Input data loading\n",
    "import numpy as np\n",
    "\n",
    "from sklearn.model_selection import train_test_split\n",
    "import sklearn\n",
    "from sklearn import metrics\n",
    "\n",
    "from keras.models import Model\n",
    "from keras import layers\n",
    "from keras import Input\n",
    "\n",
    "import matplotlib.pyplot as plt"
   ]
  },
  {
   "cell_type": "code",
   "execution_count": 52,
   "metadata": {},
   "outputs": [
    {
     "name": "stdout",
     "output_type": "stream",
     "text": [
      "(130, 248)\n",
      "(130, 248)\n",
      "(130, 7500)\n",
      "(130, 13)\n"
     ]
    }
   ],
   "source": [
    "#기본 데이터 로드--------------------------------------------------------------\n",
    "\n",
    "#Displacement data loading\n",
    "_Displacement_path = \"C:/Temp/displacement13.csv\"\n",
    "Displacement_original_Data = np.loadtxt(_Displacement_path, delimiter=',', dtype=np.float32, encoding='utf-8')\n",
    "\n",
    "#Load data loading\n",
    "_Load_path = \"C:/Temp/load13.csv\"\n",
    "Load_original_Data = np.loadtxt(_Load_path, delimiter=',', dtype=np.float32, encoding='utf-8')\n",
    "\n",
    "#Acoustic data loading - 15000개 데이터 중 7500개만 사용\n",
    "_Acoustic_path = \"C:/Temp/Acoustic.csv\"\n",
    "Acoustic_original_Data = np.loadtxt(_Acoustic_path, delimiter=',', dtype=np.float32, encoding='utf-8')\n",
    "\n",
    "Acoustic_original_Data = Acoustic_original_Data[:,:7500]\n",
    "\n",
    "\n",
    "#Output data loading\n",
    "_Class_result_path = \"C:/Temp/Class_result.csv\"\n",
    "Class_result_original_Data = np.loadtxt(_Class_result_path, delimiter=',', dtype=np.int32, encoding='utf-8')\n",
    "\n",
    "#Checking Data amount\n",
    "Dispaldement_data_shape = Displacement_original_Data.shape\n",
    "Load_data_shape = Load_original_Data.shape\n",
    "Acoustic_data_shape = Acoustic_original_Data.shape\n",
    "Class_result_Data_shape = Class_result_original_Data.shape\n",
    "\n",
    "print (Dispaldement_data_shape)\n",
    "print (Load_data_shape)\n",
    "print (Acoustic_data_shape)\n",
    "print (Class_result_Data_shape)"
   ]
  },
  {
   "cell_type": "code",
   "execution_count": 53,
   "metadata": {},
   "outputs": [],
   "source": [
    "\n",
    "#데이터 표준화--------------------------------------------------------------\n",
    "Displacement_original_Data -= Displacement_original_Data.mean(axis=0)\n",
    "Displacement_original_Data /= Displacement_original_Data.std(axis=0)\n",
    "\n",
    "Load_original_Data -= Load_original_Data.mean(axis=0)\n",
    "Load_original_Data /= Load_original_Data.std(axis=0)\n",
    "\n",
    "Acoustic_original_Data -= Acoustic_original_Data.mean(axis=0)\n",
    "Acoustic_original_Data /= Acoustic_original_Data.std(axis=0)\n",
    "\n",
    "Displacement_norm_Data = Displacement_original_Data\n",
    "Load_norm_Data = Load_original_Data\n",
    "Acoustic_norm_Data = Acoustic_original_Data\n"
   ]
  },
  {
   "cell_type": "code",
   "execution_count": 43,
   "metadata": {},
   "outputs": [
    {
     "name": "stdout",
     "output_type": "stream",
     "text": [
      "130\n"
     ]
    }
   ],
   "source": [
    "\n",
    "#데이터 총 개수 확인--------------------------------------------------------------\n",
    "Data_amount = Class_result_Data_shape[0]\n",
    "\n",
    "print(Data_amount)\n"
   ]
  },
  {
   "cell_type": "code",
   "execution_count": 54,
   "metadata": {},
   "outputs": [
    {
     "name": "stdout",
     "output_type": "stream",
     "text": [
      "(130, 2, 248)\n"
     ]
    }
   ],
   "source": [
    "#데이터 합치기 1x248 2개의 데이터를 이미지 처럼 2x248 데이터로------------------------\n",
    "\n",
    "#Initializing\n",
    "Input_data = []\n",
    "\n",
    "#Merging each line\n",
    "for i in range(Data_amount):\n",
    "\n",
    "    Input_data.append(np.stack([Displacement_norm_Data[i,:], Load_norm_Data[i,:]]))\n",
    "\n",
    "Input_data = np.array(Input_data)    \n",
    "print(Input_data.shape)\n"
   ]
  },
  {
   "cell_type": "code",
   "execution_count": 55,
   "metadata": {},
   "outputs": [
    {
     "name": "stdout",
     "output_type": "stream",
     "text": [
      "(130, 750)\n"
     ]
    }
   ],
   "source": [
    "#Acoustic data 다운 샘플링 10개 평균 7500개 -> 750개 데이터------------------------\n",
    "\n",
    "Input_data2 = np.zeros((130,750))\n",
    "\n",
    "for i in range(130):\n",
    "    for j in range(750):\n",
    "        Input_data2[i][j] = np.mean(Acoustic_norm_Data[i][j*10:j*10+10])\n",
    "\n",
    "Input_data2 = np.array(Input_data2)\n",
    "print(Input_data2.shape)"
   ]
  },
  {
   "cell_type": "code",
   "execution_count": 56,
   "metadata": {},
   "outputs": [
    {
     "name": "stdout",
     "output_type": "stream",
     "text": [
      "(130, 13)\n"
     ]
    }
   ],
   "source": [
    "#CNN을 위한 입력 데이터 리사이징---------------------------------------------------\n",
    "Input_data = Input_data.reshape((130,2,248,1))\n",
    "Input_data2 = Input_data2.reshape((130,750,1))\n",
    "\n",
    "#출력 데이터 확인--------------------------------------------------------------\n",
    "Output_data = np.array(Class_result_original_Data)\n",
    "print(Output_data.shape)"
   ]
  },
  {
   "cell_type": "code",
   "execution_count": 57,
   "metadata": {},
   "outputs": [
    {
     "name": "stdout",
     "output_type": "stream",
     "text": [
      "(91, 2, 248, 1)\n",
      "(91, 13)\n",
      "(19, 2, 248, 1)\n",
      "(19, 13)\n",
      "(20, 2, 248, 1)\n",
      "(20, 13)\n",
      "[[0 0 1 ... 0 0 0]\n",
      " [0 0 0 ... 0 0 0]\n",
      " [0 0 0 ... 0 0 0]\n",
      " ...\n",
      " [0 1 0 ... 0 0 0]\n",
      " [0 0 0 ... 0 0 0]\n",
      " [0 0 0 ... 1 0 0]]\n"
     ]
    }
   ],
   "source": [
    "#입력 데이터 70:15:15로 나누기(Training, validation, test)------------------\n",
    "#Displacement and Load\n",
    "\n",
    "# split data: Training data를 70%\n",
    "x_train, x_test, y_train, y_test = train_test_split(Input_data, Output_data, \n",
    "\t\t\t\t       train_size=0.70, random_state=42)\n",
    "# split data: Validation과 Test data를 50:50 으로\n",
    "x_val, x_test, y_val, y_test = train_test_split(x_test, y_test, \n",
    "\t\t\t\t       train_size=0.50, random_state=42)\n",
    "print(x_train.shape)\n",
    "print(y_train.shape)\n",
    "print(x_val.shape)\n",
    "print(y_val.shape)\n",
    "print(x_test.shape)\n",
    "print(y_test.shape)\n",
    "print(y_train)"
   ]
  },
  {
   "cell_type": "code",
   "execution_count": 58,
   "metadata": {},
   "outputs": [
    {
     "name": "stdout",
     "output_type": "stream",
     "text": [
      "(91, 750, 1)\n",
      "(91, 13)\n",
      "(19, 750, 1)\n",
      "(19, 13)\n",
      "(20, 750, 1)\n",
      "(20, 13)\n",
      "[[0 0 1 ... 0 0 0]\n",
      " [0 0 0 ... 0 0 0]\n",
      " [0 0 0 ... 0 0 0]\n",
      " ...\n",
      " [0 1 0 ... 0 0 0]\n",
      " [0 0 0 ... 0 0 0]\n",
      " [0 0 0 ... 1 0 0]]\n"
     ]
    }
   ],
   "source": [
    "#Acoustic\n",
    "\n",
    "# split data: Training data를 70%\n",
    "x2_train, x2_test, y_train, y_test = train_test_split(Input_data2, Output_data, \n",
    "\t\t\t\t       train_size=0.70, random_state=42)\n",
    "# split data: Validation과 Test data를 50:50 으로\n",
    "x2_val, x2_test, y_val, y_test = train_test_split(x2_test, y_test, \n",
    "\t\t\t\t       train_size=0.50, random_state=42)\n",
    "print(x2_train.shape)\n",
    "print(y_train.shape)\n",
    "print(x2_val.shape)\n",
    "print(y_val.shape)\n",
    "print(x2_test.shape)\n",
    "print(y_test.shape)\n",
    "print(y_train)\n"
   ]
  },
  {
   "cell_type": "code",
   "execution_count": 59,
   "metadata": {},
   "outputs": [
    {
     "name": "stdout",
     "output_type": "stream",
     "text": [
      "Model: \"model_4\"\n",
      "__________________________________________________________________________________________________\n",
      "Layer (type)                    Output Shape         Param #     Connected to                     \n",
      "==================================================================================================\n",
      "input_9 (InputLayer)            [(None, 2, 248, 1)]  0                                            \n",
      "__________________________________________________________________________________________________\n",
      "input_10 (InputLayer)           [(None, 750, 1)]     0                                            \n",
      "__________________________________________________________________________________________________\n",
      "conv2d_4 (Conv2D)               (None, 1, 239, 64)   1344        input_9[0][0]                    \n",
      "__________________________________________________________________________________________________\n",
      "conv1d_4 (Conv1D)               (None, 741, 64)      704         input_10[0][0]                   \n",
      "__________________________________________________________________________________________________\n",
      "max_pooling2d_4 (MaxPooling2D)  (None, 1, 59, 64)    0           conv2d_4[0][0]                   \n",
      "__________________________________________________________________________________________________\n",
      "max_pooling1d_4 (MaxPooling1D)  (None, 185, 64)      0           conv1d_4[0][0]                   \n",
      "__________________________________________________________________________________________________\n",
      "flatten_8 (Flatten)             (None, 3776)         0           max_pooling2d_4[0][0]            \n",
      "__________________________________________________________________________________________________\n",
      "flatten_9 (Flatten)             (None, 11840)        0           max_pooling1d_4[0][0]            \n",
      "__________________________________________________________________________________________________\n",
      "concatenate_4 (Concatenate)     (None, 15616)        0           flatten_8[0][0]                  \n",
      "                                                                 flatten_9[0][0]                  \n",
      "__________________________________________________________________________________________________\n",
      "dense_4 (Dense)                 (None, 13)           203021      concatenate_4[0][0]              \n",
      "==================================================================================================\n",
      "Total params: 205,069\n",
      "Trainable params: 205,069\n",
      "Non-trainable params: 0\n",
      "__________________________________________________________________________________________________\n"
     ]
    }
   ],
   "source": [
    "#모델 구조 설계 및 컴파일러 설정------------------\n",
    "\n",
    "X1 = Input(shape=(2, 248, 1), dtype='float32')\n",
    "X2 = Input(shape=(750, 1), dtype='float32')\n",
    "\n",
    "Model_1_1 = layers.Conv2D(64, (2, 10), activation='relu', input_shape=(2, 248, 1))(X1)\n",
    "Model_1_2 = layers.MaxPooling2D((1, 4))(Model_1_1)\n",
    "Model_1_3 = layers.Flatten()(Model_1_2)\n",
    "\n",
    "Model_2_1 = layers.Conv1D(64, 10, activation='relu', input_shape=(750, 1))(X2)\n",
    "Model_2_2 = layers.MaxPooling1D((4))(Model_2_1)\n",
    "Model_2_3 = layers.Flatten()(Model_2_2)\n",
    "\n",
    "concatenated = layers.concatenate([Model_1_3, Model_2_3], axis=-1)\n",
    "answer = layers.Dense(13, activation='softmax')(concatenated)\n",
    "\n",
    "model = Model([X1, X2], answer)\n",
    "\n",
    "model.summary()\n",
    "\n",
    "model.compile(optimizer='adam',\n",
    " loss='categorical_crossentropy',\n",
    " metrics=['accuracy'])\n"
   ]
  },
  {
   "cell_type": "code",
   "execution_count": 34,
   "metadata": {},
   "outputs": [
    {
     "name": "stdout",
     "output_type": "stream",
     "text": [
      "Epoch 1/40\n",
      "19/19 [==============================] - 1s 17ms/step - loss: 2.6795 - accuracy: 0.2146 - val_loss: 2.3378 - val_accuracy: 0.2105\n",
      "Epoch 2/40\n",
      "19/19 [==============================] - 0s 7ms/step - loss: 0.9868 - accuracy: 0.6307 - val_loss: 1.2947 - val_accuracy: 0.5789\n",
      "Epoch 3/40\n",
      "19/19 [==============================] - 0s 6ms/step - loss: 0.6110 - accuracy: 0.8311 - val_loss: 1.1001 - val_accuracy: 0.6842\n",
      "Epoch 4/40\n",
      "19/19 [==============================] - 0s 6ms/step - loss: 0.2497 - accuracy: 0.9783 - val_loss: 0.8609 - val_accuracy: 0.7368\n",
      "Epoch 5/40\n",
      "19/19 [==============================] - 0s 6ms/step - loss: 0.0951 - accuracy: 1.0000 - val_loss: 1.0339 - val_accuracy: 0.6842\n",
      "Epoch 6/40\n",
      "19/19 [==============================] - 0s 6ms/step - loss: 0.0479 - accuracy: 1.0000 - val_loss: 0.8770 - val_accuracy: 0.7368\n",
      "Epoch 7/40\n",
      "19/19 [==============================] - 0s 6ms/step - loss: 0.0361 - accuracy: 1.0000 - val_loss: 0.8695 - val_accuracy: 0.7368\n",
      "Epoch 8/40\n",
      "19/19 [==============================] - 0s 6ms/step - loss: 0.0236 - accuracy: 1.0000 - val_loss: 0.8482 - val_accuracy: 0.7368\n",
      "Epoch 9/40\n",
      "19/19 [==============================] - 0s 7ms/step - loss: 0.0190 - accuracy: 1.0000 - val_loss: 0.8497 - val_accuracy: 0.7368\n",
      "Epoch 10/40\n",
      "19/19 [==============================] - 0s 6ms/step - loss: 0.0174 - accuracy: 1.0000 - val_loss: 0.8270 - val_accuracy: 0.7368\n",
      "Epoch 11/40\n",
      "19/19 [==============================] - 0s 7ms/step - loss: 0.0124 - accuracy: 1.0000 - val_loss: 0.8569 - val_accuracy: 0.7368\n",
      "Epoch 12/40\n",
      "19/19 [==============================] - 0s 7ms/step - loss: 0.0107 - accuracy: 1.0000 - val_loss: 0.8684 - val_accuracy: 0.7368\n",
      "Epoch 13/40\n",
      "19/19 [==============================] - 0s 9ms/step - loss: 0.0086 - accuracy: 1.0000 - val_loss: 0.8690 - val_accuracy: 0.7368\n",
      "Epoch 14/40\n",
      "19/19 [==============================] - 0s 7ms/step - loss: 0.0064 - accuracy: 1.0000 - val_loss: 0.8597 - val_accuracy: 0.7895\n",
      "Epoch 15/40\n",
      "19/19 [==============================] - 0s 11ms/step - loss: 0.0059 - accuracy: 1.0000 - val_loss: 0.8466 - val_accuracy: 0.7895\n",
      "Epoch 16/40\n",
      "19/19 [==============================] - 0s 6ms/step - loss: 0.0050 - accuracy: 1.0000 - val_loss: 0.8463 - val_accuracy: 0.7895\n",
      "Epoch 17/40\n",
      "19/19 [==============================] - 0s 6ms/step - loss: 0.0041 - accuracy: 1.0000 - val_loss: 0.8546 - val_accuracy: 0.7895\n",
      "Epoch 18/40\n",
      "19/19 [==============================] - 0s 7ms/step - loss: 0.0048 - accuracy: 1.0000 - val_loss: 0.8523 - val_accuracy: 0.7895\n",
      "Epoch 19/40\n",
      "19/19 [==============================] - 0s 7ms/step - loss: 0.0042 - accuracy: 1.0000 - val_loss: 0.8627 - val_accuracy: 0.7895\n",
      "Epoch 20/40\n",
      "19/19 [==============================] - 0s 9ms/step - loss: 0.0040 - accuracy: 1.0000 - val_loss: 0.8582 - val_accuracy: 0.8421\n",
      "Epoch 21/40\n",
      "19/19 [==============================] - 0s 8ms/step - loss: 0.0031 - accuracy: 1.0000 - val_loss: 0.8697 - val_accuracy: 0.8421\n",
      "Epoch 22/40\n",
      "19/19 [==============================] - 0s 8ms/step - loss: 0.0033 - accuracy: 1.0000 - val_loss: 0.8658 - val_accuracy: 0.8421\n",
      "Epoch 23/40\n",
      "19/19 [==============================] - 0s 7ms/step - loss: 0.0028 - accuracy: 1.0000 - val_loss: 0.8643 - val_accuracy: 0.8421\n",
      "Epoch 24/40\n",
      "19/19 [==============================] - 0s 10ms/step - loss: 0.0029 - accuracy: 1.0000 - val_loss: 0.8741 - val_accuracy: 0.8421\n",
      "Epoch 25/40\n",
      "19/19 [==============================] - 0s 10ms/step - loss: 0.0022 - accuracy: 1.0000 - val_loss: 0.8630 - val_accuracy: 0.8421\n",
      "Epoch 26/40\n",
      "19/19 [==============================] - 0s 8ms/step - loss: 0.0024 - accuracy: 1.0000 - val_loss: 0.8675 - val_accuracy: 0.8421\n",
      "Epoch 27/40\n",
      "19/19 [==============================] - 0s 8ms/step - loss: 0.0020 - accuracy: 1.0000 - val_loss: 0.8576 - val_accuracy: 0.8421\n",
      "Epoch 28/40\n",
      "19/19 [==============================] - 0s 8ms/step - loss: 0.0017 - accuracy: 1.0000 - val_loss: 0.8549 - val_accuracy: 0.8421\n",
      "Epoch 29/40\n",
      "19/19 [==============================] - 0s 7ms/step - loss: 0.0021 - accuracy: 1.0000 - val_loss: 0.8677 - val_accuracy: 0.8421\n",
      "Epoch 30/40\n",
      "19/19 [==============================] - 0s 7ms/step - loss: 0.0020 - accuracy: 1.0000 - val_loss: 0.8848 - val_accuracy: 0.7895\n",
      "Epoch 31/40\n",
      "19/19 [==============================] - 0s 7ms/step - loss: 0.0019 - accuracy: 1.0000 - val_loss: 0.8849 - val_accuracy: 0.8421\n",
      "Epoch 32/40\n",
      "19/19 [==============================] - 0s 6ms/step - loss: 0.0015 - accuracy: 1.0000 - val_loss: 0.8759 - val_accuracy: 0.8421\n",
      "Epoch 33/40\n",
      "19/19 [==============================] - 0s 11ms/step - loss: 0.0015 - accuracy: 1.0000 - val_loss: 0.8976 - val_accuracy: 0.8421\n",
      "Epoch 34/40\n",
      "19/19 [==============================] - 0s 9ms/step - loss: 0.0013 - accuracy: 1.0000 - val_loss: 0.8829 - val_accuracy: 0.8421\n",
      "Epoch 35/40\n",
      "19/19 [==============================] - 0s 10ms/step - loss: 0.0015 - accuracy: 1.0000 - val_loss: 0.8748 - val_accuracy: 0.8421\n",
      "Epoch 36/40\n",
      "19/19 [==============================] - 0s 6ms/step - loss: 0.0012 - accuracy: 1.0000 - val_loss: 0.8713 - val_accuracy: 0.8947\n",
      "Epoch 37/40\n",
      "19/19 [==============================] - 0s 6ms/step - loss: 0.0011 - accuracy: 1.0000 - val_loss: 0.8770 - val_accuracy: 0.8421\n",
      "Epoch 38/40\n",
      "19/19 [==============================] - 0s 6ms/step - loss: 0.0012 - accuracy: 1.0000 - val_loss: 0.8852 - val_accuracy: 0.8947\n",
      "Epoch 39/40\n",
      "19/19 [==============================] - 0s 6ms/step - loss: 9.5684e-04 - accuracy: 1.0000 - val_loss: 0.8827 - val_accuracy: 0.8947\n",
      "Epoch 40/40\n",
      "19/19 [==============================] - 0s 6ms/step - loss: 9.2688e-04 - accuracy: 1.0000 - val_loss: 0.8798 - val_accuracy: 0.8947\n"
     ]
    },
    {
     "data": {
      "image/png": "[encoded data removed]",
      "text/plain": [
       "<Figure size 432x288 with 1 Axes>"
      ]
     },
     "metadata": {
      "needs_background": "light"
     },
     "output_type": "display_data"
    },
    {
     "data": {
      "image/png": "[encoded data removed]",
      "text/plain": [
       "<Figure size 432x288 with 1 Axes>"
      ]
     },
     "metadata": {
      "needs_background": "light"
     },
     "output_type": "display_data"
    }
   ],
   "source": [
    "#학습 시작-------------------------------\n",
    "history = model.fit([x_train, x2_train], y_train, epochs=40, batch_size=5, validation_data=([x_val, x2_val], y_val))\n",
    "\n",
    "\n",
    "#train, val acc and loss graph-------------------------------\n",
    "acc = history.history['accuracy']\n",
    "val_acc = history.history['val_accuracy']\n",
    "loss = history.history['loss']\n",
    "val_loss = history.history['val_loss']\n",
    "\n",
    "epochs = range(len(acc))\n",
    "\n",
    "plt.plot(epochs, acc, 'bo', label='Training acc')\n",
    "plt.plot(epochs, val_acc, 'r', label='Validation acc')\n",
    "plt.title('Training and validation accuracy')\n",
    "plt.legend()\n",
    "\n",
    "plt.figure()\n",
    "\n",
    "plt.plot(epochs, loss, 'bo', label='Training loss')\n",
    "plt.plot(epochs, val_loss, 'r', label='Validation loss')\n",
    "plt.title('Training and validation loss')\n",
    "plt.legend()\n",
    "\n",
    "plt.show()\n"
   ]
  },
  {
   "cell_type": "code",
   "execution_count": 35,
   "metadata": {},
   "outputs": [
    {
     "name": "stdout",
     "output_type": "stream",
     "text": [
      "Confusion Matrix\n",
      "[[8 0 0 0 0 0 0 0 0 0 0 0 0]\n",
      " [0 4 0 0 0 0 0 0 0 0 0 0 0]\n",
      " [0 0 7 0 0 0 0 0 0 0 0 0 0]\n",
      " [0 0 0 8 0 0 0 0 0 0 0 0 0]\n",
      " [0 0 0 0 6 0 0 0 0 0 0 0 0]\n",
      " [0 0 0 0 0 7 0 0 0 0 0 0 0]\n",
      " [0 0 0 0 0 0 7 0 0 0 0 0 0]\n",
      " [0 0 0 0 0 0 0 7 0 0 0 0 0]\n",
      " [0 0 0 0 0 0 0 0 6 0 0 0 0]\n",
      " [0 0 0 0 0 0 0 0 0 7 0 0 0]\n",
      " [0 0 0 0 0 0 0 0 0 0 8 0 0]\n",
      " [0 0 0 0 0 0 0 0 0 0 0 8 0]\n",
      " [0 0 0 0 0 0 0 0 0 0 0 0 8]]\n",
      "Target\n",
      "[ 2  4  6  9  3  6 12  0  3  6  2 11  2  9 12  5  0  6  7  3  4  3  1 12\n",
      "  3  8  0  4  7 10 11  0  1  9  0  1  3  7 10  0  8 11 11  5  5 11  4 10\n",
      "  6 12  7 12  9  4  5  9  4  8 11  5  7  3 12  5  6 10  3  2 10 11  0  5\n",
      "  2  0  2 10  9  8 11  7  8  8 12 12  2  6  7 10  1  9 10]\n",
      "Prediction\n",
      "[ 2  4  6  9  3  6 12  0  3  6  2 11  2  9 12  5  0  6  7  3  4  3  1 12\n",
      "  3  8  0  4  7 10 11  0  1  9  0  1  3  7 10  0  8 11 11  5  5 11  4 10\n",
      "  6 12  7 12  9  4  5  9  4  8 11  5  7  3 12  5  6 10  3  2 10 11  0  5\n",
      "  2  0  2 10  9  8 11  7  8  8 12 12  2  6  7 10  1  9 10]\n"
     ]
    }
   ],
   "source": [
    "#train, val Confusion matrix-------------------------------\n",
    "#train data 검사\n",
    "predictions = model.predict([x_train,x2_train])\n",
    "y_pred = (predictions > 0.5)\n",
    "matrix = sklearn.metrics.confusion_matrix(y_train.argmax(axis=1), y_pred.argmax(axis=1))\n",
    "print(\"Confusion Matrix\")\n",
    "print(matrix)\n",
    "print(\"Target\")\n",
    "print(y_train.argmax(axis=1))\n",
    "print(\"Prediction\")\n",
    "print(y_pred.argmax(axis=1))\n"
   ]
  },
  {
   "cell_type": "code",
   "execution_count": 36,
   "metadata": {},
   "outputs": [
    {
     "name": "stdout",
     "output_type": "stream",
     "text": [
      "Confusion Matrix\n",
      "[[1 0 0 0 0 0 0 0 0 0 0]\n",
      " [1 4 0 0 0 0 0 0 0 0 0]\n",
      " [0 0 1 0 0 0 0 0 0 0 0]\n",
      " [0 0 0 1 0 0 0 0 0 0 0]\n",
      " [0 0 0 0 3 0 0 0 0 0 0]\n",
      " [0 0 0 1 0 0 0 0 0 0 0]\n",
      " [0 0 0 0 0 0 1 0 0 0 0]\n",
      " [0 0 0 0 0 0 0 3 0 0 0]\n",
      " [0 0 0 0 0 0 0 0 1 0 0]\n",
      " [0 0 0 0 0 0 0 0 0 1 0]\n",
      " [0 0 0 0 0 0 0 0 0 1 0]]\n",
      "Target\n",
      "[ 2  4  1  1  1  0 11  3  6  1  4  9 12  9  1 10  9  4  7]\n",
      "Prediction\n",
      "[ 2  4  1  0  1  0 11  3  3  1  4  9 11  9  1 10  9  4  7]\n"
     ]
    }
   ],
   "source": [
    "#validation data 검사\n",
    "predictions = model.predict([x_val,x2_val])\n",
    "y_pred = (predictions > 0.5)\n",
    "matrix = sklearn.metrics.confusion_matrix(y_val.argmax(axis=1), y_pred.argmax(axis=1))\n",
    "print(\"Confusion Matrix\")\n",
    "print(matrix)\n",
    "print(\"Target\")\n",
    "print(y_val.argmax(axis=1))\n",
    "print(\"Prediction\")\n",
    "print(y_pred.argmax(axis=1))"
   ]
  },
  {
   "cell_type": "code",
   "execution_count": 37,
   "metadata": {},
   "outputs": [
    {
     "name": "stdout",
     "output_type": "stream",
     "text": [
      "Confusion Matrix\n",
      "[[1 0 0 0 0 0 0 0 0 0 0 0 0]\n",
      " [1 0 0 0 0 0 0 0 0 0 0 0 0]\n",
      " [0 0 2 0 0 0 0 0 0 0 0 0 0]\n",
      " [0 0 0 1 0 0 0 0 0 0 0 0 0]\n",
      " [0 0 0 1 0 0 0 0 0 0 0 0 0]\n",
      " [0 0 0 0 0 3 0 0 0 0 0 0 0]\n",
      " [0 0 0 0 0 0 2 0 0 0 0 0 0]\n",
      " [0 0 0 0 0 0 0 2 0 0 0 0 0]\n",
      " [2 0 0 0 0 0 0 0 1 1 0 0 0]\n",
      " [0 0 0 0 0 0 0 0 0 0 0 0 0]\n",
      " [0 0 0 0 0 0 0 0 0 0 1 0 0]\n",
      " [0 0 0 0 0 0 0 0 0 0 0 1 0]\n",
      " [0 0 0 0 0 0 0 0 0 0 0 0 1]]\n",
      "Target\n",
      "[ 2  8 11  0  1  7  6  7 12 10  8  8  3  6  8  2  5  5  4  5]\n",
      "Prediction\n",
      "[ 2  9 11  0  0  7  6  7 12 10  8  0  3  6  0  2  5  5  3  5]\n"
     ]
    }
   ],
   "source": [
    "#testing data 검사\n",
    "predictions = model.predict([x_test,x2_test])\n",
    "y_pred = (predictions > 0.5)\n",
    "matrix = sklearn.metrics.confusion_matrix(y_test.argmax(axis=1), y_pred.argmax(axis=1))\n",
    "print(\"Confusion Matrix\")\n",
    "print(matrix)\n",
    "print(\"Target\")\n",
    "print(y_test.argmax(axis=1))\n",
    "print(\"Prediction\")\n",
    "print(y_pred.argmax(axis=1))"
   ]
  }
 ],
 "metadata": {
  "kernelspec": {
   "display_name": "Python 3",
   "language": "python",
   "name": "python3"
  },
  "language_info": {
   "codemirror_mode": {
    "name": "ipython",
    "version": 3
   },
   "file_extension": ".py",
   "mimetype": "text/x-python",
   "name": "python",
   "nbconvert_exporter": "python",
   "pygments_lexer": "ipython3",
   "version": "3.8.5"
  }
 },
 "nbformat": 4,
 "nbformat_minor": 4
}
